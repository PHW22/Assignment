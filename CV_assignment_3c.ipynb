{
 "cells": [
  {
   "cell_type": "code",
   "execution_count": 10,
   "metadata": {},
   "outputs": [
    {
     "name": "stdout",
     "output_type": "stream",
     "text": [
      "Epoch 1/20\n",
      "4986/4986 [==============================] - 1s 283us/sample - loss: 0.8345 - acc: 0.5207\n",
      "Epoch 2/20\n",
      "4986/4986 [==============================] - 1s 265us/sample - loss: 0.6921 - acc: 0.5632\n",
      "Epoch 3/20\n",
      "4986/4986 [==============================] - 1s 258us/sample - loss: 0.6885 - acc: 0.5712\n",
      "Epoch 4/20\n",
      "4986/4986 [==============================] - 1s 256us/sample - loss: 0.6778 - acc: 0.5782\n",
      "Epoch 5/20\n",
      "4986/4986 [==============================] - 1s 271us/sample - loss: 0.6708 - acc: 0.5832\n",
      "Epoch 6/20\n",
      "4986/4986 [==============================] - 1s 252us/sample - loss: 0.6570 - acc: 0.6069\n",
      "Epoch 7/20\n",
      "4986/4986 [==============================] - 1s 239us/sample - loss: 0.6556 - acc: 0.6099\n",
      "Epoch 8/20\n",
      "4986/4986 [==============================] - 1s 262us/sample - loss: 0.6516 - acc: 0.6169\n",
      "Epoch 9/20\n",
      "4986/4986 [==============================] - 1s 245us/sample - loss: 0.6415 - acc: 0.6330\n",
      "Epoch 10/20\n",
      "4986/4986 [==============================] - 1s 268us/sample - loss: 0.6346 - acc: 0.6400\n",
      "Epoch 11/20\n",
      "4986/4986 [==============================] - 1s 251us/sample - loss: 0.6408 - acc: 0.6225\n",
      "Epoch 12/20\n",
      "4986/4986 [==============================] - 1s 242us/sample - loss: 0.6335 - acc: 0.6390\n",
      "Epoch 13/20\n",
      "4986/4986 [==============================] - 1s 239us/sample - loss: 0.6247 - acc: 0.6490\n",
      "Epoch 14/20\n",
      "4986/4986 [==============================] - 1s 241us/sample - loss: 0.6262 - acc: 0.6502\n",
      "Epoch 15/20\n",
      "4986/4986 [==============================] - 1s 237us/sample - loss: 0.6155 - acc: 0.6604\n",
      "Epoch 16/20\n",
      "4986/4986 [==============================] - 1s 237us/sample - loss: 0.6013 - acc: 0.6661\n",
      "Epoch 17/20\n",
      "4986/4986 [==============================] - 1s 238us/sample - loss: 0.6169 - acc: 0.6546\n",
      "Epoch 18/20\n",
      "4986/4986 [==============================] - 1s 245us/sample - loss: 0.6104 - acc: 0.6617\n",
      "Epoch 19/20\n",
      "4986/4986 [==============================] - 1s 242us/sample - loss: 0.5965 - acc: 0.6735\n",
      "Epoch 20/20\n",
      "4986/4986 [==============================] - 1s 237us/sample - loss: 0.6005 - acc: 0.6751\n",
      "4986/4986 [==============================] - 0s 92us/sample - loss: 0.6076 - acc: 0.6524\n",
      "497/497 [==============================] - 0s 88us/sample - loss: 0.6960 - acc: 0.5855\n",
      "0.6076344354679629 0.6524268 0.6959760487679265 0.58551306\n",
      "(4986, 48, 48, 3)\n",
      "(4986,)\n",
      "(497, 48, 48, 3)\n",
      "(497,)\n"
     ]
    }
   ],
   "source": [
    "import tensorflow as tf\n",
    "from tensorflow import keras\n",
    "import numpy as np\n",
    "import matplotlib.pyplot as plt\n",
    "import os\n",
    "import random\n",
    "import pickle\n",
    "def build_model():\n",
    "    \n",
    "    model = keras.Sequential([\n",
    "    keras.layers.Flatten(input_shape=(48,48,3)),\n",
    "    keras.layers.Dense(256, activation=tf.nn.relu),\n",
    "    keras.layers.Dense(128, activation=tf.nn.relu),\n",
    "    keras.layers.Dense(2, activation=tf.nn.softmax)\n",
    "    ])   \n",
    "    return model\n",
    "\n",
    "if __name__ == '__main__':\n",
    "  \n",
    "    data = pickle.load(open(\"dogs_cats.pkl\",\"rb\"))\n",
    "    X_train, Y_train, X_test, Y_test = data[\"X_train\"], data[\"Y_train\"], data[\"X_test\"], data[\"Y_test\"]\n",
    "    X_train = X_train / 255.0\n",
    "    X_test = X_test / 255.0\n",
    "    model = build_model()\n",
    "    model.compile(optimizer='adam',\n",
    "                loss='sparse_categorical_crossentropy',\n",
    "                metrics=['accuracy']) \n",
    "    model.fit(X_train, Y_train, epochs=20)\n",
    "    train_loss, train_acc = model.evaluate(X_train, Y_train)\n",
    "    test_loss, test_acc = model.evaluate(X_test, Y_test)\n",
    "    \n",
    "    print(train_loss, train_acc,test_loss, test_acc )\n",
    "    print(X_train.shape)\n",
    "    print(Y_train.shape)\n",
    "    print(X_test.shape)\n",
    "    print(Y_test.shape) "
   ]
  },
  {
   "cell_type": "code",
   "execution_count": 2,
   "metadata": {},
   "outputs": [],
   "source": [
    "# The test accuracy is much lower than the training accuracy. Why?\n",
    "# How can we improve the test accuracy?\n",
    "# model是為了優化training accuracy而訓練的，所以training accuracy高於test accuracy，或者是發生了overfitting。\n",
    "# 如果是發生overfitting，減少神經元可以讓test accuracy上升。"
   ]
  }
 ],
 "metadata": {
  "kernelspec": {
   "display_name": "Python 3",
   "language": "python",
   "name": "python3"
  },
  "language_info": {
   "codemirror_mode": {
    "name": "ipython",
    "version": 3
   },
   "file_extension": ".py",
   "mimetype": "text/x-python",
   "name": "python",
   "nbconvert_exporter": "python",
   "pygments_lexer": "ipython3",
   "version": "3.7.7"
  }
 },
 "nbformat": 4,
 "nbformat_minor": 2
}
