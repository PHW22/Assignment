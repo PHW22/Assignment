{
 "cells": [
  {
   "cell_type": "code",
   "execution_count": 1,
   "metadata": {},
   "outputs": [
    {
     "name": "stdout",
     "output_type": "stream",
     "text": [
      "error:讀不到圖\n",
      "error:讀不到圖\n",
      "error:讀不到圖\n",
      "error:讀不到圖\n",
      "error:讀不到圖\n",
      "error:讀不到圖\n",
      "error:讀不到圖\n",
      "error:讀不到圖\n",
      "error:讀不到圖\n",
      "error:讀不到圖\n",
      "error:讀不到圖\n",
      "error:讀不到圖\n",
      "error:讀不到圖\n",
      "error:讀不到圖\n",
      "error:讀不到圖\n",
      "error:讀不到圖\n",
      "error:讀不到圖\n",
      "4986\n",
      "(48, 48, 3)\n",
      "497\n",
      "(48, 48, 3)\n",
      "Saving to dogs_cats.pkl\n"
     ]
    }
   ],
   "source": [
    "import os\n",
    "import cv2\n",
    "import numpy as np\n",
    "import pickle\n",
    "\n",
    "def get_data_from_file(train_file):\n",
    "    train_data = []\n",
    "    with open(train_file) as fp:\n",
    "        for line in fp: \n",
    "            img_path = os.path.join(\"PetImages\", line.rstrip().replace('/','\\\\'))\n",
    "            try:\n",
    "                img = cv2.imread(img_path)\n",
    "                img_resized = cv2.resize(img, (48, 48))          \n",
    "                if 'Cat' in line:\n",
    "                    label = 0\n",
    "                if 'Dog' in line:\n",
    "                    label = 1\n",
    "                train_data.append([img_resized, label])\n",
    "            except:\n",
    "                print(\"error:讀不到圖\")\n",
    "    return train_data\n",
    "\n",
    "def get_image_and_label(train_data):\n",
    "    X_train = np.zeros((len(train_data),train_data[0][0].shape[0],train_data[0][0].shape[1],train_data[0][0].shape[2]))\n",
    "    Y_train = np.zeros([len(train_data)])\n",
    "    for i in range(len(train_data)):\n",
    "        X_train[i]= train_data[i][0]\n",
    "        Y_train[i] = train_data[i][1]\n",
    "    return X_train,Y_train\n",
    "    \n",
    "if __name__ == '__main__':\n",
    "    data_dir = 'PetImages'\n",
    "    train_file = 'train_list.txt'\n",
    "    test_file = 'test_list.txt'\n",
    "\n",
    "    train_data = get_data_from_file(train_file)\n",
    "    test_data = get_data_from_file(test_file)\n",
    "    X_train, Y_train = get_image_and_label(train_data)\n",
    "    X_test, Y_test = get_image_and_label(test_data)\n",
    "    print(len(train_data))\n",
    "    print(train_data[0][0].shape)\n",
    "    print(len(test_data))\n",
    "    print(test_data[0][0].shape)\n",
    "   \n",
    "    save_path = 'dogs_cats.pkl'\n",
    "    print('Saving to', save_path)\n",
    "    data = {}\n",
    "    data['X_train'] = X_train\n",
    "    data['Y_train'] = Y_train\n",
    "    data['X_test'] = X_test\n",
    "    data['Y_test'] = Y_test\n",
    "    pickle.dump(data, open(save_path, 'wb'))\n",
    "    "
   ]
  }
 ],
 "metadata": {
  "kernelspec": {
   "display_name": "Python 3",
   "language": "python",
   "name": "python3"
  },
  "language_info": {
   "codemirror_mode": {
    "name": "ipython",
    "version": 3
   },
   "file_extension": ".py",
   "mimetype": "text/x-python",
   "name": "python",
   "nbconvert_exporter": "python",
   "pygments_lexer": "ipython3",
   "version": "3.7.7"
  }
 },
 "nbformat": 4,
 "nbformat_minor": 2
}
