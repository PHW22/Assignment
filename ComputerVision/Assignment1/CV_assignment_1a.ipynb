{
 "cells": [
  {
   "cell_type": "code",
   "execution_count": 1,
   "metadata": {},
   "outputs": [
    {
     "name": "stdout",
     "output_type": "stream",
     "text": [
      "case1\n",
      "A = [[ 3  2 -1]\n",
      " [ 6 -1  3]\n",
      " [ 1 10 -2]] b = [[-7 -4  2]]\n",
      "The linear system Ax=b has only one solution.\n",
      "The solution is  [[-2.]\n",
      " [ 1.]\n",
      " [ 3.]]\n",
      "\n",
      "case2\n",
      "A = [[ 4 -1  3]\n",
      " [21 -4 18]\n",
      " [-9  1 -9]] b = [[ 5  7 -8]]\n",
      "The linear system Ax=b has no solutions.\n",
      "\n",
      "case3\n",
      "A = [[ 7 -4  1]\n",
      " [ 3  2 -1]\n",
      " [ 5 12 -5]] b = [[-15  -5  -5]]\n",
      "The linear system Ax=b has infinitely many solutions.\n",
      "\n"
     ]
    }
   ],
   "source": [
    "import numpy as np\n",
    "\n",
    "def solve_linear_equation(A, b):\n",
    "    C = np.hstack((A,b))\n",
    "    if np.linalg.matrix_rank(A) == A.shape[0] and np.linalg.matrix_rank(A) == np.linalg.matrix_rank(C):\n",
    "        flag = 1\n",
    "    elif np.linalg.matrix_rank(A) < A.shape[0] and np.linalg.matrix_rank(A) != np.linalg.matrix_rank(C):\n",
    "        flag = -1\n",
    "    elif np.linalg.matrix_rank(A) < A.shape[0] and np.linalg.matrix_rank(A) == np.linalg.matrix_rank(C):\n",
    "        flag = 0\n",
    "    else:\n",
    "        flag = 2\n",
    "\n",
    "    return flag\n",
    "\n",
    "def flag_to_message(flag):\n",
    "   if flag == 1:\n",
    "     print('The linear system Ax=b has only one solution.')\n",
    "   elif flag == 0:\n",
    "     print('The linear system Ax=b has infinitely many solutions.')\n",
    "   elif flag == -1:\n",
    "     print('The linear system Ax=b has no solutions.')\n",
    "   else:\n",
    "     print('Unknown flag!')\n",
    "\n",
    "def get_input_data(input_id):\n",
    "   if input_id == 'case1': \n",
    "     A = np.array([[3, 2, -1], [6, -1, 3], [1, 10, -2]])\n",
    "     b = np.array([[-7], [-4], [2]])\n",
    "   elif input_id == 'case2':\n",
    "     A = np.array([[4, -1, 3], [21, -4, 18], [-9, 1, -9]])\n",
    "     b = np.array([[5], [7], [-8]])\n",
    "   elif input_id == 'case3':\n",
    "     A = np.array([[7, -4, 1], [3, 2, -1], [5, 12, -5]])\n",
    "     b = np.array([[-15], [-5], [-5]])\n",
    "   return A, b\n",
    "\n",
    "if __name__ == '__main__':\n",
    "   for case in ['case1', 'case2', 'case3']:\n",
    "     A, b = get_input_data(case)\n",
    "     print(case)\n",
    "     print('A =', A, 'b =', b.T)\n",
    "     flag = solve_linear_equation(A, b)\n",
    "     flag_to_message(flag)\n",
    "     if flag == 1:\n",
    "       print('The solution is ', np.linalg.solve(A, b))\n",
    "     print()\n"
   ]
  },
  {
   "cell_type": "code",
   "execution_count": 2,
   "metadata": {},
   "outputs": [],
   "source": [
    "# Can we use np.linalg.solve() to determine whether 𝐀𝐱=𝐛 is consistent? Explain the reason for your answer. (5%)\n",
    "# Write down your answer here.\n",
    "#只能在唯一解的情況下使用"
   ]
  },
  {
   "cell_type": "code",
   "execution_count": null,
   "metadata": {},
   "outputs": [],
   "source": [
    "# Given matrix 𝐀 of dimension (m,n). If rank(𝐀)=𝑛, can we infer that 𝐀𝐱=𝐛 is consistent? Explain the reason for your answer. (5%)\n",
    "# Write down your answer here.\n",
    "#n<=m情況下，rank(𝐀)=𝑛且rank(𝐀)=rank([A b])，他會符合唯一解的情況"
   ]
  }
 ],
 "metadata": {
  "kernelspec": {
   "display_name": "Python 3",
   "language": "python",
   "name": "python3"
  },
  "language_info": {
   "codemirror_mode": {
    "name": "ipython",
    "version": 3
   },
   "file_extension": ".py",
   "mimetype": "text/x-python",
   "name": "python",
   "nbconvert_exporter": "python",
   "pygments_lexer": "ipython3",
   "version": "3.7.7"
  }
 },
 "nbformat": 4,
 "nbformat_minor": 2
}
