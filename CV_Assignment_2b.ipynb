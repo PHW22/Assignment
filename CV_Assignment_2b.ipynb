{
 "cells": [
  {
   "cell_type": "code",
   "execution_count": 3,
   "metadata": {},
   "outputs": [
    {
     "data": {
      "image/png": "[encoded data removed]",
      "text/plain": [
       "<Figure size 432x288 with 1 Axes>"
      ]
     },
     "metadata": {
      "needs_background": "light"
     },
     "output_type": "display_data"
    }
   ],
   "source": [
    "import numpy as np\n",
    "import matplotlib.pyplot as plt\n",
    "%matplotlib inline\n",
    "\n",
    "def display_distributions(widths):\n",
    "  if not widths:\n",
    "     print('The input list is empty!')\n",
    "     return\n",
    "  bin_range = range(0, 201, 10)\n",
    "  n, bins, patches = plt.hist(x=widths, bins=bin_range, color='#0504aa', alpha=0.7, rwidth=0.85)\n",
    "  plt.rcParams.update({'font.size': 14})\n",
    "  plt.grid(axis='y', alpha=0.75)\n",
    "  plt.xlabel('Width')\n",
    "  plt.ylabel('Counts')\n",
    "  maxfreq = n.max()\n",
    "  plt.ylim(top=np.round(maxfreq / 10) * 10 if maxfreq % 10 else maxfreq + 10)\n",
    "  plt.show()\n",
    "\n",
    "if __name__ == '__main__':\n",
    "#  invalid = 0\n",
    "  anno_file = 'annotation.txt'\n",
    "  widths = []\n",
    "  with open(anno_file, 'r') as fp:\n",
    "    lines = fp.readlines()\n",
    "    for line in lines:  \n",
    "        annotation = line.strip().split(' ')\n",
    "        annotation = list(map(int, annotation[1:]))\n",
    "        annotation = np.array(annotation).reshape(int(len(annotation)/4),4)\n",
    "        for i in range(len(annotation)):\n",
    "#            if annotation[i][2] > annotation[i][0] and annotation[i][3] > annotation[i][1]:\n",
    "                width = annotation[i][2] - annotation[i][0] + 1\n",
    "                widths.append(width) \n",
    "#            else:\n",
    "#                invalid += 1\n",
    "#  print(invalid)\n",
    "  display_distributions(widths)\n"
   ]
  },
  {
   "cell_type": "code",
   "execution_count": 10,
   "metadata": {},
   "outputs": [],
   "source": [
    "# The above code only considers valid bounding boxes. How many bounding boxes are invalid? Modify the above code to find the answer. (5%)\n",
    "# 加個判斷式，判斷無效的情況，有28個，把#拿掉就是加了判斷式的code。"
   ]
  },
  {
   "cell_type": "code",
   "execution_count": 5,
   "metadata": {},
   "outputs": [],
   "source": [
    "# Discuss the types of situations that give rise to invalid bounding boxes. (5%)\n",
    "# x1>=x2或y1>=y2，這些情況會導致邊框無效。"
   ]
  }
 ],
 "metadata": {
  "kernelspec": {
   "display_name": "Python 3",
   "language": "python",
   "name": "python3"
  },
  "language_info": {
   "codemirror_mode": {
    "name": "ipython",
    "version": 3
   },
   "file_extension": ".py",
   "mimetype": "text/x-python",
   "name": "python",
   "nbconvert_exporter": "python",
   "pygments_lexer": "ipython3",
   "version": "3.7.7"
  }
 },
 "nbformat": 4,
 "nbformat_minor": 2
}
